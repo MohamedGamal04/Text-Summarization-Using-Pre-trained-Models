{
  "nbformat": 4,
  "nbformat_minor": 0,
  "metadata": {
    "colab": {
      "provenance": [],
      "gpuType": "T4"
    },
    "kernelspec": {
      "name": "python3",
      "display_name": "Python 3"
    },
    "language_info": {
      "name": "python"
    },
    "accelerator": "GPU"
  },
  "cells": [
    {
      "cell_type": "markdown",
      "source": [
        "# Loading Dataset"
      ],
      "metadata": {
        "id": "L-Xd2209_OGw"
      }
    },
    {
      "cell_type": "code",
      "source": [
        "!pip -q install evaluate rouge-score pytextrank\n"
      ],
      "metadata": {
        "id": "B5I5-Rb5-m13"
      },
      "execution_count": null,
      "outputs": []
    },
    {
      "cell_type": "code",
      "execution_count": null,
      "metadata": {
        "id": "mw0NpAsnnvEu",
        "colab": {
          "base_uri": "https://localhost:8080/"
        },
        "outputId": "9333fc7e-858f-4287-ccba-719ca4cac222"
      },
      "outputs": [
        {
          "output_type": "stream",
          "name": "stdout",
          "text": [
            "Using Colab cache for faster access to the 'newspaper-text-summarization-cnn-dailymail' dataset.\n",
            "Path to dataset files: /kaggle/input/newspaper-text-summarization-cnn-dailymail\n"
          ]
        }
      ],
      "source": [
        "import kagglehub\n",
        "\n",
        "path = kagglehub.dataset_download(\"gowrishankarp/newspaper-text-summarization-cnn-dailymail\")\n",
        "print(\"Path to dataset files:\", path)"
      ]
    },
    {
      "cell_type": "code",
      "source": [
        "import pandas as pd\n",
        "\n",
        "train_df = pd.read_csv(path+\"/cnn_dailymail/train.csv\")\n",
        "val_df = pd.read_csv(path+\"/cnn_dailymail/validation.csv\")\n",
        "\n",
        "train_df.drop(columns=[\"id\"], inplace=True)\n",
        "val_df.drop(columns=[\"id\"], inplace=True)\n",
        "\n",
        "train_df = train_df.iloc[:300]\n",
        "val_df = val_df.iloc[:300]\n",
        "\n",
        "train_df.head()"
      ],
      "metadata": {
        "id": "s7Fk2YNs8h4J",
        "colab": {
          "base_uri": "https://localhost:8080/",
          "height": 206
        },
        "outputId": "9dee731c-8dd9-43f3-e314-9e9fc78ac065"
      },
      "execution_count": null,
      "outputs": [
        {
          "output_type": "execute_result",
          "data": {
            "text/plain": [
              "                                             article  \\\n",
              "0  By . Associated Press . PUBLISHED: . 14:11 EST...   \n",
              "1  (CNN) -- Ralph Mata was an internal affairs li...   \n",
              "2  A drunk driver who killed a young woman in a h...   \n",
              "3  (CNN) -- With a breezy sweep of his pen Presid...   \n",
              "4  Fleetwood are the only team still to have a 10...   \n",
              "\n",
              "                                          highlights  \n",
              "0  Bishop John Folda, of North Dakota, is taking ...  \n",
              "1  Criminal complaint: Cop used his role to help ...  \n",
              "2  Craig Eccleston-Todd, 27, had drunk at least t...  \n",
              "3  Nina dos Santos says Europe must be ready to a...  \n",
              "4  Fleetwood top of League One after 2-0 win at S...  "
            ],
            "text/html": [
              "\n",
              "  <div id=\"df-22be99d7-c2ad-4939-a785-a28834d9809c\" class=\"colab-df-container\">\n",
              "    <div>\n",
              "<style scoped>\n",
              "    .dataframe tbody tr th:only-of-type {\n",
              "        vertical-align: middle;\n",
              "    }\n",
              "\n",
              "    .dataframe tbody tr th {\n",
              "        vertical-align: top;\n",
              "    }\n",
              "\n",
              "    .dataframe thead th {\n",
              "        text-align: right;\n",
              "    }\n",
              "</style>\n",
              "<table border=\"1\" class=\"dataframe\">\n",
              "  <thead>\n",
              "    <tr style=\"text-align: right;\">\n",
              "      <th></th>\n",
              "      <th>article</th>\n",
              "      <th>highlights</th>\n",
              "    </tr>\n",
              "  </thead>\n",
              "  <tbody>\n",
              "    <tr>\n",
              "      <th>0</th>\n",
              "      <td>By . Associated Press . PUBLISHED: . 14:11 EST...</td>\n",
              "      <td>Bishop John Folda, of North Dakota, is taking ...</td>\n",
              "    </tr>\n",
              "    <tr>\n",
              "      <th>1</th>\n",
              "      <td>(CNN) -- Ralph Mata was an internal affairs li...</td>\n",
              "      <td>Criminal complaint: Cop used his role to help ...</td>\n",
              "    </tr>\n",
              "    <tr>\n",
              "      <th>2</th>\n",
              "      <td>A drunk driver who killed a young woman in a h...</td>\n",
              "      <td>Craig Eccleston-Todd, 27, had drunk at least t...</td>\n",
              "    </tr>\n",
              "    <tr>\n",
              "      <th>3</th>\n",
              "      <td>(CNN) -- With a breezy sweep of his pen Presid...</td>\n",
              "      <td>Nina dos Santos says Europe must be ready to a...</td>\n",
              "    </tr>\n",
              "    <tr>\n",
              "      <th>4</th>\n",
              "      <td>Fleetwood are the only team still to have a 10...</td>\n",
              "      <td>Fleetwood top of League One after 2-0 win at S...</td>\n",
              "    </tr>\n",
              "  </tbody>\n",
              "</table>\n",
              "</div>\n",
              "    <div class=\"colab-df-buttons\">\n",
              "\n",
              "  <div class=\"colab-df-container\">\n",
              "    <button class=\"colab-df-convert\" onclick=\"convertToInteractive('df-22be99d7-c2ad-4939-a785-a28834d9809c')\"\n",
              "            title=\"Convert this dataframe to an interactive table.\"\n",
              "            style=\"display:none;\">\n",
              "\n",
              "  <svg xmlns=\"http://www.w3.org/2000/svg\" height=\"24px\" viewBox=\"0 -960 960 960\">\n",
              "    <path d=\"M120-120v-720h720v720H120Zm60-500h600v-160H180v160Zm220 220h160v-160H400v160Zm0 220h160v-160H400v160ZM180-400h160v-160H180v160Zm440 0h160v-160H620v160ZM180-180h160v-160H180v160Zm440 0h160v-160H620v160Z\"/>\n",
              "  </svg>\n",
              "    </button>\n",
              "\n",
              "  <style>\n",
              "    .colab-df-container {\n",
              "      display:flex;\n",
              "      gap: 12px;\n",
              "    }\n",
              "\n",
              "    .colab-df-convert {\n",
              "      background-color: #E8F0FE;\n",
              "      border: none;\n",
              "      border-radius: 50%;\n",
              "      cursor: pointer;\n",
              "      display: none;\n",
              "      fill: #1967D2;\n",
              "      height: 32px;\n",
              "      padding: 0 0 0 0;\n",
              "      width: 32px;\n",
              "    }\n",
              "\n",
              "    .colab-df-convert:hover {\n",
              "      background-color: #E2EBFA;\n",
              "      box-shadow: 0px 1px 2px rgba(60, 64, 67, 0.3), 0px 1px 3px 1px rgba(60, 64, 67, 0.15);\n",
              "      fill: #174EA6;\n",
              "    }\n",
              "\n",
              "    .colab-df-buttons div {\n",
              "      margin-bottom: 4px;\n",
              "    }\n",
              "\n",
              "    [theme=dark] .colab-df-convert {\n",
              "      background-color: #3B4455;\n",
              "      fill: #D2E3FC;\n",
              "    }\n",
              "\n",
              "    [theme=dark] .colab-df-convert:hover {\n",
              "      background-color: #434B5C;\n",
              "      box-shadow: 0px 1px 3px 1px rgba(0, 0, 0, 0.15);\n",
              "      filter: drop-shadow(0px 1px 2px rgba(0, 0, 0, 0.3));\n",
              "      fill: #FFFFFF;\n",
              "    }\n",
              "  </style>\n",
              "\n",
              "    <script>\n",
              "      const buttonEl =\n",
              "        document.querySelector('#df-22be99d7-c2ad-4939-a785-a28834d9809c button.colab-df-convert');\n",
              "      buttonEl.style.display =\n",
              "        google.colab.kernel.accessAllowed ? 'block' : 'none';\n",
              "\n",
              "      async function convertToInteractive(key) {\n",
              "        const element = document.querySelector('#df-22be99d7-c2ad-4939-a785-a28834d9809c');\n",
              "        const dataTable =\n",
              "          await google.colab.kernel.invokeFunction('convertToInteractive',\n",
              "                                                    [key], {});\n",
              "        if (!dataTable) return;\n",
              "\n",
              "        const docLinkHtml = 'Like what you see? Visit the ' +\n",
              "          '<a target=\"_blank\" href=https://colab.research.google.com/notebooks/data_table.ipynb>data table notebook</a>'\n",
              "          + ' to learn more about interactive tables.';\n",
              "        element.innerHTML = '';\n",
              "        dataTable['output_type'] = 'display_data';\n",
              "        await google.colab.output.renderOutput(dataTable, element);\n",
              "        const docLink = document.createElement('div');\n",
              "        docLink.innerHTML = docLinkHtml;\n",
              "        element.appendChild(docLink);\n",
              "      }\n",
              "    </script>\n",
              "  </div>\n",
              "\n",
              "\n",
              "    <div id=\"df-3fd960ea-e0f9-499f-9b95-b6ba1b1283d5\">\n",
              "      <button class=\"colab-df-quickchart\" onclick=\"quickchart('df-3fd960ea-e0f9-499f-9b95-b6ba1b1283d5')\"\n",
              "                title=\"Suggest charts\"\n",
              "                style=\"display:none;\">\n",
              "\n",
              "<svg xmlns=\"http://www.w3.org/2000/svg\" height=\"24px\"viewBox=\"0 0 24 24\"\n",
              "     width=\"24px\">\n",
              "    <g>\n",
              "        <path d=\"M19 3H5c-1.1 0-2 .9-2 2v14c0 1.1.9 2 2 2h14c1.1 0 2-.9 2-2V5c0-1.1-.9-2-2-2zM9 17H7v-7h2v7zm4 0h-2V7h2v10zm4 0h-2v-4h2v4z\"/>\n",
              "    </g>\n",
              "</svg>\n",
              "      </button>\n",
              "\n",
              "<style>\n",
              "  .colab-df-quickchart {\n",
              "      --bg-color: #E8F0FE;\n",
              "      --fill-color: #1967D2;\n",
              "      --hover-bg-color: #E2EBFA;\n",
              "      --hover-fill-color: #174EA6;\n",
              "      --disabled-fill-color: #AAA;\n",
              "      --disabled-bg-color: #DDD;\n",
              "  }\n",
              "\n",
              "  [theme=dark] .colab-df-quickchart {\n",
              "      --bg-color: #3B4455;\n",
              "      --fill-color: #D2E3FC;\n",
              "      --hover-bg-color: #434B5C;\n",
              "      --hover-fill-color: #FFFFFF;\n",
              "      --disabled-bg-color: #3B4455;\n",
              "      --disabled-fill-color: #666;\n",
              "  }\n",
              "\n",
              "  .colab-df-quickchart {\n",
              "    background-color: var(--bg-color);\n",
              "    border: none;\n",
              "    border-radius: 50%;\n",
              "    cursor: pointer;\n",
              "    display: none;\n",
              "    fill: var(--fill-color);\n",
              "    height: 32px;\n",
              "    padding: 0;\n",
              "    width: 32px;\n",
              "  }\n",
              "\n",
              "  .colab-df-quickchart:hover {\n",
              "    background-color: var(--hover-bg-color);\n",
              "    box-shadow: 0 1px 2px rgba(60, 64, 67, 0.3), 0 1px 3px 1px rgba(60, 64, 67, 0.15);\n",
              "    fill: var(--button-hover-fill-color);\n",
              "  }\n",
              "\n",
              "  .colab-df-quickchart-complete:disabled,\n",
              "  .colab-df-quickchart-complete:disabled:hover {\n",
              "    background-color: var(--disabled-bg-color);\n",
              "    fill: var(--disabled-fill-color);\n",
              "    box-shadow: none;\n",
              "  }\n",
              "\n",
              "  .colab-df-spinner {\n",
              "    border: 2px solid var(--fill-color);\n",
              "    border-color: transparent;\n",
              "    border-bottom-color: var(--fill-color);\n",
              "    animation:\n",
              "      spin 1s steps(1) infinite;\n",
              "  }\n",
              "\n",
              "  @keyframes spin {\n",
              "    0% {\n",
              "      border-color: transparent;\n",
              "      border-bottom-color: var(--fill-color);\n",
              "      border-left-color: var(--fill-color);\n",
              "    }\n",
              "    20% {\n",
              "      border-color: transparent;\n",
              "      border-left-color: var(--fill-color);\n",
              "      border-top-color: var(--fill-color);\n",
              "    }\n",
              "    30% {\n",
              "      border-color: transparent;\n",
              "      border-left-color: var(--fill-color);\n",
              "      border-top-color: var(--fill-color);\n",
              "      border-right-color: var(--fill-color);\n",
              "    }\n",
              "    40% {\n",
              "      border-color: transparent;\n",
              "      border-right-color: var(--fill-color);\n",
              "      border-top-color: var(--fill-color);\n",
              "    }\n",
              "    60% {\n",
              "      border-color: transparent;\n",
              "      border-right-color: var(--fill-color);\n",
              "    }\n",
              "    80% {\n",
              "      border-color: transparent;\n",
              "      border-right-color: var(--fill-color);\n",
              "      border-bottom-color: var(--fill-color);\n",
              "    }\n",
              "    90% {\n",
              "      border-color: transparent;\n",
              "      border-bottom-color: var(--fill-color);\n",
              "    }\n",
              "  }\n",
              "</style>\n",
              "\n",
              "      <script>\n",
              "        async function quickchart(key) {\n",
              "          const quickchartButtonEl =\n",
              "            document.querySelector('#' + key + ' button');\n",
              "          quickchartButtonEl.disabled = true;  // To prevent multiple clicks.\n",
              "          quickchartButtonEl.classList.add('colab-df-spinner');\n",
              "          try {\n",
              "            const charts = await google.colab.kernel.invokeFunction(\n",
              "                'suggestCharts', [key], {});\n",
              "          } catch (error) {\n",
              "            console.error('Error during call to suggestCharts:', error);\n",
              "          }\n",
              "          quickchartButtonEl.classList.remove('colab-df-spinner');\n",
              "          quickchartButtonEl.classList.add('colab-df-quickchart-complete');\n",
              "        }\n",
              "        (() => {\n",
              "          let quickchartButtonEl =\n",
              "            document.querySelector('#df-3fd960ea-e0f9-499f-9b95-b6ba1b1283d5 button');\n",
              "          quickchartButtonEl.style.display =\n",
              "            google.colab.kernel.accessAllowed ? 'block' : 'none';\n",
              "        })();\n",
              "      </script>\n",
              "    </div>\n",
              "\n",
              "    </div>\n",
              "  </div>\n"
            ],
            "application/vnd.google.colaboratory.intrinsic+json": {
              "type": "dataframe",
              "variable_name": "train_df",
              "summary": "{\n  \"name\": \"train_df\",\n  \"rows\": 300,\n  \"fields\": [\n    {\n      \"column\": \"article\",\n      \"properties\": {\n        \"dtype\": \"string\",\n        \"num_unique_values\": 300,\n        \"samples\": [\n          \"Washington (CNN) -- Some voters are facing a choice this November: vote or be shamed -- publicly. Voters in Alaska received a letter this weekend from the \\\"Alaska State Voter Program,\\\" which told the recipient whether 11 of their friends and acquaintances had voted in the last three elections and asked a bold question: . \\\"WHAT IF YOUR FRIENDS, YOUR NEIGHBORS, AND YOUR COMMUNITY KNEW WHETHER YOU VOTED?\\\" Despite the official-looking letterhead, the \\\"Alaska State Voter Program\\\" isn't a government initiative. The mailer came from the conservative Opportunity Alliance PAC, which is using public voter rolls to shame or peer pressure voters into casting a vote this election, the Alaska Dispatch News reported Monday. And the political group says it will follow up after the election, with plans to send out a new mailer that lists which voters went to the polls on Nov. 4. \\\"You and your friends, your neighbors, and other people you know will all know who voted and who did not vote,\\\" the group writes in the letter. The mailer could have an impact on the crucial Senate election in Alaska next week, where Republican Dan Sullivan is looking to unseat Democratic Sen. Mark Begich, especially in a midterm elections when voter turnout slumps. One recipient of the letter told the Alaska Dispatch News she was creeped out when she realized she was Facebook friends with the 11 people listed in the mailer she received. It's not the first time groups have tried to shame voters into heading to the polling booth. Americans for Prosperity, a conservative group backed by the Koch brothers, sent voters in Virginia a \\\"report card\\\" last year that judged their turnout history at the ballot box-- and their next-door neighbor's. \\\"You are one of the few individuals in your neighborhood that is not a regular voter. We're contacting you and your neighbors today to let folks know who does and who doesn't vote\\\" the AFP letter reads, according to local NBC affiliate WWBT. \\\"Your neighbors who have voted in every election are concerned about our community's well being. They're concerned about the future of America...Are you?\\\" Voters in other states have received similar \\\"report cards.\\\" Another group, Values are Vital, sent Florida voters a mailer this spring that even graded their attendance record at the ballot box and also shared their neighbors' voting track record. Liberal groups like MoveOn, the Greater Wisconsin Political Fund and America Votes have also pressured voters with voting records.\",\n          \"Keith Whyte, 33, battled temperatures of -26C, ferocious winds and frostbite to win the 100km ultra marathon in Antarctica . He battled temperatures of -26C, ferocious winds and frostbite to win the 100km Ice Marathon in Antarctica in just nine hours and 26 minutes \\u2013 two hours quicker than the previous record holder. And father-of-two Keith Whyte, 33, who suffers from bone condition osteoporosis, has now spoken of how close he came to losing his fingers during the gruelling race after the cold started to set in. 'I wanted to bite my fingers just to get the feeling back,' said the runner from\\u00a0County Clare, Ireland, who only quit smoking in 2007. 'I could feel the frostbite setting in. At the next station we poured warm water on it and after a few minutes the feeling came back into the fingers. But I lost the glove. 'If the station had been further away, it could have been more serious. Thankfully we found a replacement glove and I was able to continue. 'Any part of your skin exposed was in danger. I was lucky in that the worst injury I got during the race was very bad windburn on my face.' He finished the race on Union Glacier four hours ahead of his closest competitor, Kevin McGeeney, despite only signing up at the last minute. Speaking after his win, Mr Whyte said: 'It was an amazing once in a lifetime experience. The scenery is out of this world.' The marathon runner had only been back from injury for one week before taking on the mammoth challenge. He suffered a stress fracture in his hip after the 100km World Championships in Doha in November last year. This was brought on by his osteoporosis, a condition that weakens bones, making them fragile and more likely to break. The competitors and crew slept in tents (pictured) on Union Glacier and some runners prepared by training on treadmills in industrial freezers . The father-of-two, who suffers from bone condition osteoporosis, said he was close to losing his fingers to frostbite during the gruelling race . In 2012 Keith won the British and Irish Championships, along with ultra-marathons in Dingle and Longford, Ireland. As a result of his victories, he was  ranked number one for fifty miles in Europe and number two in the world. Despite his experience, he admitted before the race: 'I don't know how you can prepare for something like this because it will be minus 30, minus 34 degrees,' he admitted before the race. 'It will be running on snow and then wearing so many layers, when I'd be just used to wearing shorts and a singlet.' Runners have been known to prepare for the freezing temperatures by running on treadmills in giant industrial freezers. Advice on the website for the race said: 'Having some prior experience of running on ice / snow terrain in temperatures of -25C with your polar clothing would obviously be advantageous, but probably not practical for people who live in more temperate climates. 'As a result, some competitors have come up with innovative means of preparing for the race. These methodologies have ranged from running on beach sand to running on treadmills in freezers.' He finished the race on Union Glacier four hours ahead of his closest competitor, Kevin McGeeney, despite only signing up at the last minute .\",\n          \"(CNN) -- With thousands of jobs lost in the manufacturing sector and some of the highest unemployment rates in the country, the Midwest has taken an especially hard hit during this economic recession. Jobs are available in Wisconsin's brewing industry, according to CNN affiliate WKOW. In December, the Midwest posted the second-highest regional unemployment rate in the country, at 7.5 percent, according to the U.S. Bureau of Labor Statistics. Michigan, Indiana and Illinois all were in the top five states for total job losses. But, as CNN's affiliate stations report, there are some bright spots in the picture these days for Midwestern job seekers. Nursing, brewing and transportation promise to bring new jobs to the region. And, like elsewhere, government jobs have taken on a new air of stability in part because of the economic stimulus package. Nursing Dawn Jarvis, of Indiana, became tired of the ups and downs of the real estate industry. So she decided to seek a career in nursing. \\\"It doesn't dry up like real estate,\\\" she told CNN affiliate WRTV, of Indianapolis. \\\"You can take it with you wherever you go.\\\" The station reports that nurses on average make upwards of $30 per hour. As America's population continues to age, health care is expected to be in increasing demand. The Indiana Health Care Association told WRTV that Indiana has the greatest need for nurses of any state. \\\"We have the highest vacancy rate for long-term care RNs [registered nurses] in the country, and it's significantly higher than other states,\\\" association president Stephen Smith told the station. \\\"One of the top professions over the next 20 years is going to be nursing and the health care field in general because of the aging of the population.\\\" Read more about nurses in Indiana from WRTV . Brewing If you ever wondered what will happen to Wisconsin's brewing industry in this sober economy, Carol Nolen has a question for you: . \\\"What better thing to do than come home at the end of the day and enjoy a beer?\\\" the president of Capitol Brewery asked CNN member station WKOW. And for a person coming home at the end of a long day of job searching, perhaps even more so. The brewing industry is doing well as others tank, WKOW reports. All of the news from the industry isn't sterling. Some brewery stocks are down on the year, including those of SABMiller, the company that brews Miller products, the station says. But overall, WKOW reports that breweries are making money and keeping people employed. Read more on the brewing industry from WKOW . Transportation Being a school bus driver may not be the sexiest of jobs in the world. But it's better than being unemployed, Ron Reynolds told WISC in Madison, Wisconsin. Driving schools in the area are full, and transportation companies, which normally have trouble filling their rosters, are awash with interest from applicants who seem to be more qualified than in years past, the station reports. Jerry Klabacka, director of Diesel Truck Driving School, told WISC that the industry is hiring truck drivers now, but that could change if companies slow their shipments of goods. The transportation industry in Madison \\\"is recession-proof in the standpoint that it always needs people,\\\" he said. \\\"However, when production goes down in this country, so does freight.\\\" For now, WISC reports that the local transportation sector in the area is seeing \\\"unprecedented growth.\\\" Read more from WISC . Government Damian Givens attended a recent job fair hosted by the U.S. Census Bureau in Greenwood, Indiana. He told WRTV that it's \\\"refreshing\\\" to know that someone is offering jobs. The bureau, which takes a detailed survey of the American public every 10 years, plans to hire 900 people in the area by April 1, and another 1,000 employees next year, the station reports. All of those jobs pertain to the bureau's 2010 survey. Workers will be paid between $11 and $13 an hour, WRTV says. Since the turnout at the jobs event in late February wasn't high, the Census Bureau is still expecting applicants. Watch a WRTV video from the jobs event . \\\"We think there will be a lot more people, because jobs are hard to come by -- and the census is going to offer that opportunity for people,\\\" Dennis Sturdevant, of the Census Bureau, told WRTV. Chocolate In Anderson, Indiana, the chocolate maker Nestle is getting headlines for its decision to take a manufacturing plant back up to full capacity this week. \\\"The plant, which makes and distributes Nesquik and Coffee-Mate, has added hundreds of new jobs to a community desperately in need of positive economic news,\\\" WRTV reports. Nestle announced it would expand the plant by 880,000 square feet and had 100 more jobs, the station says. Originally, the chocolate maker had planned to add 300 jobs. Indiana's governor touted the 100-job expansion as a success in hard times. See a photo of the plant and read more from WRTV . \\\"In a worldwide recession, this company is growing ... is succeeding against all those odds,\\\" Gov. Mitch Daniels said during a tour of the plant, according to WRTV.\"\n        ],\n        \"semantic_type\": \"\",\n        \"description\": \"\"\n      }\n    },\n    {\n      \"column\": \"highlights\",\n      \"properties\": {\n        \"dtype\": \"string\",\n        \"num_unique_values\": 300,\n        \"samples\": [\n          \"The Alaska State Voter Program mailed voters in the state this weekend .\\nThe mailer used public records to see who had voted and not voted in recent elections .\\nAlaska is home to a competitive senate race this year .\",\n          \"Father-of-two Keith Whyte, 33, won the\\u00a0100km Ice Marathon in Antarctica .\\nHe battled temperature of -26C to complete race in\\u00a09 hours and 26 minutes .\\nMr Whyte said he was close to losing fingers to frostbite in cold conditions .\\nHe stopped smoking in 2007 and suffers from\\u00a0bone condition osteoporosis .\",\n          \"The Midwest has been hit hard in the recession, but some jobs are available .\\nCNN affiliates: Offbeat industries like brewing and chocolate making are faring well .\\nNursing and health care are also seen as stable .\\nWRTV: The Census Bureau, which recently hosted a job fair, is hiring in Indiana .\"\n        ],\n        \"semantic_type\": \"\",\n        \"description\": \"\"\n      }\n    }\n  ]\n}"
            }
          },
          "metadata": {},
          "execution_count": 3
        }
      ]
    },
    {
      "cell_type": "markdown",
      "source": [
        "# Pretrained model"
      ],
      "metadata": {
        "id": "Gh3xL7XMA4Ff"
      }
    },
    {
      "cell_type": "code",
      "source": [
        "# Load model directly\n",
        "from transformers import AutoTokenizer, AutoModelForSeq2SeqLM , pipeline\n",
        "\n",
        "tokenizer = AutoTokenizer.from_pretrained(\"facebook/bart-large-cnn\")\n",
        "model = AutoModelForSeq2SeqLM.from_pretrained(\"facebook/bart-large-cnn\")\n",
        "summarizer = pipeline(\"summarization\", model=model, tokenizer=tokenizer)"
      ],
      "metadata": {
        "id": "ZZODvZWZ8isZ",
        "colab": {
          "base_uri": "https://localhost:8080/"
        },
        "outputId": "a858ec8e-cc57-437e-ae0b-1cd906477f96"
      },
      "execution_count": null,
      "outputs": [
        {
          "output_type": "stream",
          "name": "stderr",
          "text": [
            "Device set to use cuda:0\n"
          ]
        }
      ]
    },
    {
      "cell_type": "code",
      "source": [
        "predictions = []\n",
        "references = []\n",
        "\n",
        "max_input_length = 1024\n",
        "\n",
        "for article, highlight in zip(train_df['article'][:30], train_df['highlights'][:30]):\n",
        "    inputs = tokenizer(article, truncation=True, max_length=max_input_length, return_tensors=\"pt\")\n",
        "\n",
        "    inputs = {name: tensor.to(model.device) for name, tensor in inputs.items()}\n",
        "\n",
        "    summary_ids = model.generate(**inputs, max_length=130, min_length=30, num_beams=4, length_penalty=2.0)\n",
        "    summary_text = tokenizer.decode(summary_ids[0], skip_special_tokens=True)\n",
        "\n",
        "    predictions.append(summary_text)\n",
        "    references.append(highlight)"
      ],
      "metadata": {
        "id": "oGArQ-nt8lPx"
      },
      "execution_count": null,
      "outputs": []
    },
    {
      "cell_type": "code",
      "source": [
        "print(\"Original text :\")\n",
        "print(train_df['article'][0])\n",
        "print()\n",
        "print(\"Summary :\")\n",
        "print(predictions[0])"
      ],
      "metadata": {
        "id": "tqOvAIg68mmx",
        "colab": {
          "base_uri": "https://localhost:8080/"
        },
        "outputId": "d83d9c2f-b7f2-4dec-bba6-4e84e43b6f3b"
      },
      "execution_count": null,
      "outputs": [
        {
          "output_type": "stream",
          "name": "stdout",
          "text": [
            "Original text :\n",
            "By . Associated Press . PUBLISHED: . 14:11 EST, 25 October 2013 . | . UPDATED: . 15:36 EST, 25 October 2013 . The bishop of the Fargo Catholic Diocese in North Dakota has exposed potentially hundreds of church members in Fargo, Grand Forks and Jamestown to the hepatitis A virus in late September and early October. The state Health Department has issued an advisory of exposure for anyone who attended five churches and took communion. Bishop John Folda (pictured) of the Fargo Catholic Diocese in North Dakota has exposed potentially hundreds of church members in Fargo, Grand Forks and Jamestown to the hepatitis A . State Immunization Program Manager Molly Howell says the risk is low, but officials feel it's important to alert people to the possible exposure. The diocese announced on Monday that Bishop John Folda is taking time off after being diagnosed with hepatitis A. The diocese says he contracted the infection through contaminated food while attending a conference for newly ordained bishops in Italy last month. Symptoms of hepatitis A include fever, tiredness, loss of appetite, nausea and abdominal discomfort. Fargo Catholic Diocese in North Dakota (pictured) is where the bishop is located .\n",
            "\n",
            "Summary :\n",
            "Bishop John Folda of the Fargo Catholic Diocese in North Dakota has exposed potentially hundreds of church members in Fargo, Grand Forks and Jamestown to the hepatitis A. The state Health Department has issued an advisory of exposure for anyone who attended five churches and took communion.\n"
          ]
        }
      ]
    },
    {
      "cell_type": "code",
      "source": [
        "import evaluate\n",
        "rouge = evaluate.load(\"rouge\")\n",
        "\n",
        "results = rouge.compute(predictions=predictions, references=references) # Pass the entire lists\n",
        "print(\"ROUGE Scores:\\n\")\n",
        "for key, value in results.items():\n",
        "    print(f\"{key}: {round(value * 100, 2)}\")"
      ],
      "metadata": {
        "id": "Oy7WD6gA8nqb",
        "colab": {
          "base_uri": "https://localhost:8080/"
        },
        "outputId": "c2900a48-72dc-4a54-de66-68360733c53d"
      },
      "execution_count": null,
      "outputs": [
        {
          "output_type": "stream",
          "name": "stdout",
          "text": [
            "ROUGE Scores:\n",
            "\n",
            "rouge1: 44.36\n",
            "rouge2: 25.04\n",
            "rougeL: 33.03\n",
            "rougeLsum: 39.04\n"
          ]
        }
      ]
    },
    {
      "cell_type": "markdown",
      "source": [
        "# Extractive summarization using TextRank"
      ],
      "metadata": {
        "id": "_bshXXx9Bmp0"
      }
    },
    {
      "cell_type": "code",
      "source": [
        "import spacy\n",
        "import pytextrank\n",
        "\n",
        "# Load spaCy model\n",
        "nlp = spacy.load(\"en_core_web_sm\")\n",
        "\n",
        "# Add PyTextRank to the pipeline\n",
        "nlp.add_pipe(\"textrank\")\n",
        "\n",
        "def summarize_text(text, limit_sentences=3):\n",
        "    doc = nlp(text)\n",
        "    summary = []\n",
        "    for sent in doc._.textrank.summary(limit_sentences=limit_sentences):\n",
        "        summary.append(sent.text.strip())\n",
        "    return \" \".join(summary)\n",
        "\n",
        "train_df['summary'] = train_df['article'][:30].apply(summarize_text)\n"
      ],
      "metadata": {
        "id": "6lqFmiSY8ond",
        "colab": {
          "base_uri": "https://localhost:8080/"
        },
        "outputId": "7e46a5e3-047d-470e-eb6a-e7f48969fa27"
      },
      "execution_count": null,
      "outputs": [
        {
          "output_type": "stream",
          "name": "stdout",
          "text": [
            "/usr/local/lib/python3.12/dist-packages\n"
          ]
        }
      ]
    },
    {
      "cell_type": "code",
      "source": [
        "print(\"Original text :\")\n",
        "print(train_df['article'][0])\n",
        "print()\n",
        "print(\"Summary :\")\n",
        "print(train_df['summary'][0])"
      ],
      "metadata": {
        "id": "bJOWfqt88pw5",
        "colab": {
          "base_uri": "https://localhost:8080/"
        },
        "outputId": "afa73b5d-b728-4f55-97d5-f12d79838eb9"
      },
      "execution_count": null,
      "outputs": [
        {
          "output_type": "stream",
          "name": "stdout",
          "text": [
            "Original text :\n",
            "By . Associated Press . PUBLISHED: . 14:11 EST, 25 October 2013 . | . UPDATED: . 15:36 EST, 25 October 2013 . The bishop of the Fargo Catholic Diocese in North Dakota has exposed potentially hundreds of church members in Fargo, Grand Forks and Jamestown to the hepatitis A virus in late September and early October. The state Health Department has issued an advisory of exposure for anyone who attended five churches and took communion. Bishop John Folda (pictured) of the Fargo Catholic Diocese in North Dakota has exposed potentially hundreds of church members in Fargo, Grand Forks and Jamestown to the hepatitis A . State Immunization Program Manager Molly Howell says the risk is low, but officials feel it's important to alert people to the possible exposure. The diocese announced on Monday that Bishop John Folda is taking time off after being diagnosed with hepatitis A. The diocese says he contracted the infection through contaminated food while attending a conference for newly ordained bishops in Italy last month. Symptoms of hepatitis A include fever, tiredness, loss of appetite, nausea and abdominal discomfort. Fargo Catholic Diocese in North Dakota (pictured) is where the bishop is located .\n",
            "\n",
            "Summary :\n",
            "Bishop John Folda (pictured) of the Fargo Catholic Diocese in North Dakota has exposed potentially hundreds of church members in Fargo, Grand Forks and Jamestown to the hepatitis A . The bishop of the Fargo Catholic Diocese in North Dakota has exposed potentially hundreds of church members in Fargo, Grand Forks and Jamestown to the hepatitis A virus in late September and early October. Fargo Catholic Diocese in North Dakota (pictured) is where the bishop is located .\n"
          ]
        }
      ]
    },
    {
      "cell_type": "markdown",
      "source": [
        "# Fine-tuning the model"
      ],
      "metadata": {
        "id": "dZwEtXDnF3Yo"
      }
    },
    {
      "cell_type": "code",
      "source": [
        "from datasets import load_dataset\n",
        "\n",
        "dataset = load_dataset(\"cnn_dailymail\", \"3.0.0\")"
      ],
      "metadata": {
        "id": "XUHmFrWO8q25"
      },
      "execution_count": null,
      "outputs": []
    },
    {
      "cell_type": "code",
      "source": [
        "from transformers import BartTokenizer\n",
        "\n",
        "model_name = \"facebook/bart-large-cnn\"\n",
        "tokenizer = BartTokenizer.from_pretrained(model_name)\n",
        "\n",
        "# Preprocessing function\n",
        "def preprocess_function(examples):\n",
        "    inputs = [doc for doc in examples[\"article\"]]\n",
        "    model_inputs = tokenizer(\n",
        "        inputs, max_length=1024, truncation=True, padding=\"max_length\"\n",
        "    )\n",
        "\n",
        "    # Tokenize targets with padding\n",
        "    with tokenizer.as_target_tokenizer():\n",
        "        labels = tokenizer(\n",
        "            examples[\"highlights\"], max_length=128, truncation=True, padding=\"max_length\"\n",
        "        )\n",
        "\n",
        "    model_inputs[\"labels\"] = labels[\"input_ids\"]\n",
        "    return model_inputs\n",
        "\n",
        "tokenized_datasets = dataset.map(preprocess_function, batched=True, remove_columns=[\"article\", \"highlights\", \"id\"])\n"
      ],
      "metadata": {
        "id": "10fvsK-78sBx"
      },
      "execution_count": null,
      "outputs": []
    },
    {
      "cell_type": "code",
      "source": [
        "import gc\n",
        "import sys\n",
        "\n",
        "del train_df\n",
        "del val_df\n",
        "gc.collect()"
      ],
      "metadata": {
        "colab": {
          "base_uri": "https://localhost:8080/"
        },
        "id": "3OUIBsDTWmKb",
        "outputId": "31200048-450f-4b73-8476-8d162557604c"
      },
      "execution_count": null,
      "outputs": [
        {
          "output_type": "execute_result",
          "data": {
            "text/plain": [
              "31055"
            ]
          },
          "metadata": {},
          "execution_count": 14
        }
      ]
    },
    {
      "cell_type": "code",
      "source": [
        "from transformers import Seq2SeqTrainingArguments, Seq2SeqTrainer\n",
        "import wandb\n",
        "\n",
        "wandb.init(project=\"bart-summarization\")\n",
        "\n",
        "training_args = Seq2SeqTrainingArguments(\n",
        "    output_dir=\"./results\",\n",
        "    per_device_train_batch_size=2,      # Reduced for memory safety\n",
        "    per_device_eval_batch_size=2,       # Reduced for memory safety\n",
        "    gradient_accumulation_steps=8,      # Increased to maintain effective batch size\n",
        "    num_train_epochs=2,                 # Slightly more epochs since batch size is smaller\n",
        "    logging_steps=50,                   # More frequent logging for shorter runs\n",
        "    save_steps=250,                     # More frequent saves for Colab\n",
        "    learning_rate=3e-4,                 # Slightly higher LR for smaller batches\n",
        "    fp16=False,                          # Changed from bf16 (better Colab compatibility)\n",
        "    optim=\"adamw_torch\",\n",
        "    report_to=\"none\",\n",
        ")"
      ],
      "metadata": {
        "id": "IM-A9FLe8trf",
        "colab": {
          "base_uri": "https://localhost:8080/",
          "height": 143
        },
        "outputId": "24461dd1-ef31-4ec6-cdfe-f904d617d6f8"
      },
      "execution_count": null,
      "outputs": [
        {
          "output_type": "stream",
          "name": "stderr",
          "text": [
            "\u001b[34m\u001b[1mwandb\u001b[0m: Currently logged in as: \u001b[33mking-sniper-ks2000\u001b[0m (\u001b[33mking-sniper-ks2000-student\u001b[0m) to \u001b[32mhttps://api.wandb.ai\u001b[0m. Use \u001b[1m`wandb login --relogin`\u001b[0m to force relogin\n"
          ]
        },
        {
          "output_type": "display_data",
          "data": {
            "text/plain": [
              "<IPython.core.display.HTML object>"
            ],
            "text/html": []
          },
          "metadata": {}
        },
        {
          "output_type": "display_data",
          "data": {
            "text/plain": [
              "<IPython.core.display.HTML object>"
            ],
            "text/html": [
              "Tracking run with wandb version 0.22.2"
            ]
          },
          "metadata": {}
        },
        {
          "output_type": "display_data",
          "data": {
            "text/plain": [
              "<IPython.core.display.HTML object>"
            ],
            "text/html": [
              "Run data is saved locally in <code>/content/wandb/run-20251027_203212-d1j42fy2</code>"
            ]
          },
          "metadata": {}
        },
        {
          "output_type": "display_data",
          "data": {
            "text/plain": [
              "<IPython.core.display.HTML object>"
            ],
            "text/html": [
              "Syncing run <strong><a href='https://wandb.ai/king-sniper-ks2000-student/bart-summarization/runs/d1j42fy2' target=\"_blank\">firm-snowball-4</a></strong> to <a href='https://wandb.ai/king-sniper-ks2000-student/bart-summarization' target=\"_blank\">Weights & Biases</a> (<a href='https://wandb.me/developer-guide' target=\"_blank\">docs</a>)<br>"
            ]
          },
          "metadata": {}
        },
        {
          "output_type": "display_data",
          "data": {
            "text/plain": [
              "<IPython.core.display.HTML object>"
            ],
            "text/html": [
              " View project at <a href='https://wandb.ai/king-sniper-ks2000-student/bart-summarization' target=\"_blank\">https://wandb.ai/king-sniper-ks2000-student/bart-summarization</a>"
            ]
          },
          "metadata": {}
        },
        {
          "output_type": "display_data",
          "data": {
            "text/plain": [
              "<IPython.core.display.HTML object>"
            ],
            "text/html": [
              " View run at <a href='https://wandb.ai/king-sniper-ks2000-student/bart-summarization/runs/d1j42fy2' target=\"_blank\">https://wandb.ai/king-sniper-ks2000-student/bart-summarization/runs/d1j42fy2</a>"
            ]
          },
          "metadata": {}
        }
      ]
    },
    {
      "cell_type": "code",
      "source": [
        "import evaluate\n",
        "rouge = evaluate.load(\"rouge\")\n",
        "\n",
        "def compute_metrics(eval_pred):\n",
        "    predictions, labels = eval_pred\n",
        "    decoded_preds = tokenizer.batch_decode(predictions, skip_special_tokens=True)\n",
        "    decoded_labels = tokenizer.batch_decode(labels, skip_special_tokens=True)\n",
        "    result = rouge.compute(predictions=decoded_preds, references=decoded_labels, use_stemmer=True)\n",
        "    result = {key: value * 100 for key, value in result.items()}\n",
        "    return result"
      ],
      "metadata": {
        "id": "YlALnC7uHamH"
      },
      "execution_count": null,
      "outputs": []
    },
    {
      "cell_type": "code",
      "source": [
        "trainer = Seq2SeqTrainer(\n",
        "    model=model,\n",
        "    args=training_args,\n",
        "    train_dataset=tokenized_datasets[\"train\"].select(range(500)),\n",
        "    eval_dataset=tokenized_datasets[\"validation\"].select(range(100)),\n",
        "    tokenizer=tokenizer,\n",
        "    compute_metrics=compute_metrics,\n",
        ")"
      ],
      "metadata": {
        "id": "arY51UoZ8vR5",
        "colab": {
          "base_uri": "https://localhost:8080/"
        },
        "outputId": "631ec27b-aaf1-47a0-a625-a24227ed0a53"
      },
      "execution_count": null,
      "outputs": [
        {
          "output_type": "stream",
          "name": "stderr",
          "text": [
            "/tmp/ipython-input-4078942548.py:1: FutureWarning: `tokenizer` is deprecated and will be removed in version 5.0.0 for `Seq2SeqTrainer.__init__`. Use `processing_class` instead.\n",
            "  trainer = Seq2SeqTrainer(\n"
          ]
        }
      ]
    },
    {
      "cell_type": "code",
      "source": [
        "trainer.train()"
      ],
      "metadata": {
        "id": "1I6TfsIK8w-7",
        "colab": {
          "base_uri": "https://localhost:8080/",
          "height": 168
        },
        "outputId": "434f977d-4059-4396-e85e-8f8cddd63062"
      },
      "execution_count": null,
      "outputs": [
        {
          "output_type": "display_data",
          "data": {
            "text/plain": [
              "<IPython.core.display.HTML object>"
            ],
            "text/html": [
              "\n",
              "    <div>\n",
              "      \n",
              "      <progress value='38' max='38' style='width:300px; height:20px; vertical-align: middle;'></progress>\n",
              "      [38/38 07:48, Epoch 2/2]\n",
              "    </div>\n",
              "    <table border=\"1\" class=\"dataframe\">\n",
              "  <thead>\n",
              " <tr style=\"text-align: left;\">\n",
              "      <th>Step</th>\n",
              "      <th>Training Loss</th>\n",
              "    </tr>\n",
              "  </thead>\n",
              "  <tbody>\n",
              "  </tbody>\n",
              "</table><p>"
            ]
          },
          "metadata": {}
        },
        {
          "output_type": "stream",
          "name": "stderr",
          "text": [
            "/usr/local/lib/python3.12/dist-packages/transformers/modeling_utils.py:3918: UserWarning: Moving the following attributes in the config to the generation config: {'max_length': 142, 'min_length': 56, 'early_stopping': True, 'num_beams': 4, 'length_penalty': 2.0, 'no_repeat_ngram_size': 3, 'forced_bos_token_id': 0}. You are seeing this warning because you've set generation parameters in the model config, as opposed to in the generation config.\n",
            "  warnings.warn(\n"
          ]
        },
        {
          "output_type": "execute_result",
          "data": {
            "text/plain": [
              "TrainOutput(global_step=38, training_loss=5.1055860017475325, metrics={'train_runtime': 476.303, 'train_samples_per_second': 1.26, 'train_steps_per_second': 0.08, 'total_flos': 1300262761267200.0, 'train_loss': 5.1055860017475325, 'epoch': 2.0})"
            ]
          },
          "metadata": {},
          "execution_count": 18
        }
      ]
    },
    {
      "cell_type": "code",
      "source": [
        "metrics = trainer.evaluate()\n",
        "print(metrics)"
      ],
      "metadata": {
        "id": "m2w09FDz8zBH",
        "colab": {
          "base_uri": "https://localhost:8080/",
          "height": 37
        },
        "outputId": "ca2a0892-57ab-4bb6-87d1-dc7081d68331"
      },
      "execution_count": null,
      "outputs": [
        {
          "output_type": "display_data",
          "data": {
            "text/plain": [
              "<IPython.core.display.HTML object>"
            ],
            "text/html": [
              "\n",
              "    <div>\n",
              "      \n",
              "      <progress value='50' max='50' style='width:300px; height:20px; vertical-align: middle;'></progress>\n",
              "      [50/50 00:16]\n",
              "    </div>\n",
              "    "
            ]
          },
          "metadata": {}
        }
      ]
    },
    {
      "cell_type": "markdown",
      "source": [
        "# Notebook Summary & Key insights"
      ],
      "metadata": {
        "id": "vc8fScWaHCWv"
      }
    },
    {
      "cell_type": "markdown",
      "source": [
        "## Summary\n",
        "\n",
        "This notebook explores text summarization using both extractive and abstractive methods on the CNN/DailyMail dataset.\n",
        "\n",
        "1.  **Data Loading and Preparation:** The notebook starts by loading the CNN/DailyMail dataset using `kagglehub` and `pandas`. It then preprocesses the data for both extractive and abstractive summarization.\n",
        "2.  **Extractive Summarization (TextRank):** TextRank is used for extractive summarization, where key sentences are extracted from the original article. The `spacy` and `pytextrank` libraries are utilized for this purpose.\n",
        "3.  **Abstractive Summarization (BART):** A pre-trained BART model (`facebook/bart-large-cnn`) is loaded using the `transformers` library. The model is then fine-tuned on a subset of the CNN/DailyMail dataset for abstractive summarization, which involves generating new sentences for the summary.\n",
        "4.  **Evaluation:** ROUGE metrics are used to evaluate the performance of both the pre-trained BART model and the fine-tuned BART model.\n",
        "\n",
        "## Key Insights\n",
        "\n",
        "*   The pre-trained BART model achieves reasonable ROUGE scores on the summarization task, indicating its effectiveness out-of-the-box.\n",
        "*   The extractive summarization with TextRank provides a different perspective on summarization by selecting important sentences from the original text.\n",
        "*   Fine-tuning the BART model on the specific dataset can potentially improve performance, although the current training run is limited in epochs and dataset size. Further training and hyperparameter tuning could yield better results.\n",
        "*   The notebook demonstrates the workflow for both extractive and abstractive text summarization using popular Python libraries."
      ],
      "metadata": {
        "id": "IYP7N8m-GypS"
      }
    }
  ]
}